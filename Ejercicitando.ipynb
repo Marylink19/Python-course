{
  "cells": [
    {
      "metadata": {},
      "cell_type": "markdown",
      "source": "Hello world!"
    },
    {
      "metadata": {
        "trusted": true,
        "scrolled": true
      },
      "cell_type": "code",
      "source": "print(\"Hello people in the club!\")",
      "execution_count": 15,
      "outputs": [
        {
          "output_type": "stream",
          "text": "Hello people in the club!\n",
          "name": "stdout"
        }
      ]
    },
    {
      "metadata": {
        "trusted": true
      },
      "cell_type": "code",
      "source": "print(\"Hello programmer!\")",
      "execution_count": 13,
      "outputs": [
        {
          "output_type": "stream",
          "text": "Hello programmer!\n",
          "name": "stdout"
        }
      ]
    },
    {
      "metadata": {
        "trusted": true
      },
      "cell_type": "code",
      "source": "# this is a comment and star with # symbol",
      "execution_count": null,
      "outputs": []
    },
    {
      "metadata": {
        "trusted": true
      },
      "cell_type": "code",
      "source": "x = 2\ny = x + 5 + 13\ny",
      "execution_count": 17,
      "outputs": [
        {
          "output_type": "execute_result",
          "execution_count": 17,
          "data": {
            "text/plain": "20"
          },
          "metadata": {}
        }
      ]
    },
    {
      "metadata": {
        "trusted": true
      },
      "cell_type": "code",
      "source": "# we do an operation and we know the value of \"y\" ",
      "execution_count": 18,
      "outputs": []
    },
    {
      "metadata": {
        "trusted": true
      },
      "cell_type": "code",
      "source": "print(\"after edit, save!\")",
      "execution_count": 21,
      "outputs": [
        {
          "output_type": "stream",
          "text": "after edit, save!\n",
          "name": "stdout"
        }
      ]
    },
    {
      "metadata": {
        "trusted": true
      },
      "cell_type": "code",
      "source": "print(\"Crtl+S\")",
      "execution_count": 22,
      "outputs": [
        {
          "output_type": "stream",
          "text": "Crtl+S\n",
          "name": "stdout"
        }
      ]
    },
    {
      "metadata": {
        "trusted": true
      },
      "cell_type": "code",
      "source": "\"A B C ^ * , . ; ~ % / ¨\"",
      "execution_count": 1,
      "outputs": [
        {
          "output_type": "execute_result",
          "execution_count": 1,
          "data": {
            "text/plain": "'A B C ^ * , . ; ~ % / ¨'"
          },
          "metadata": {}
        }
      ]
    },
    {
      "metadata": {
        "trusted": true
      },
      "cell_type": "code",
      "source": "print(\"hello python\")\nprint('hello python')",
      "execution_count": 3,
      "outputs": [
        {
          "output_type": "stream",
          "text": "hello python\nhello python\n",
          "name": "stdout"
        }
      ]
    },
    {
      "metadata": {
        "trusted": true
      },
      "cell_type": "code",
      "source": "# string echo\n\"Please, interger dont need a quote\"",
      "execution_count": 14,
      "outputs": [
        {
          "output_type": "execute_result",
          "execution_count": 14,
          "data": {
            "text/plain": "'Please, interger dont need a quote'"
          },
          "metadata": {}
        }
      ]
    },
    {
      "metadata": {
        "trusted": true
      },
      "cell_type": "code",
      "source": "# integer echo\n234",
      "execution_count": 12,
      "outputs": [
        {
          "output_type": "execute_result",
          "execution_count": 12,
          "data": {
            "text/plain": "234"
          },
          "metadata": {}
        }
      ]
    },
    {
      "metadata": {
        "trusted": true
      },
      "cell_type": "code",
      "source": "# digit string print\nprint(\"2017\")",
      "execution_count": 7,
      "outputs": [
        {
          "output_type": "stream",
          "text": "2017\n",
          "name": "stdout"
        }
      ]
    },
    {
      "metadata": {
        "trusted": true
      },
      "cell_type": "code",
      "source": "# interger print\nprint(-2043)",
      "execution_count": 13,
      "outputs": [
        {
          "output_type": "stream",
          "text": "-2043\n",
          "name": "stdout"
        }
      ]
    },
    {
      "metadata": {
        "trusted": true
      },
      "cell_type": "code",
      "source": "# Variable Assigment\nstudent_name = \"Miguel\"",
      "execution_count": 4,
      "outputs": []
    },
    {
      "metadata": {
        "trusted": true
      },
      "cell_type": "code",
      "source": "#Variable echo\nprint(student_name)",
      "execution_count": 5,
      "outputs": [
        {
          "output_type": "stream",
          "text": "Miguel\n",
          "name": "stdout"
        }
      ]
    },
    {
      "metadata": {
        "trusted": true
      },
      "cell_type": "code",
      "source": "student_name",
      "execution_count": 17,
      "outputs": [
        {
          "output_type": "execute_result",
          "execution_count": 17,
          "data": {
            "text/plain": "'Miguel'"
          },
          "metadata": {}
        }
      ]
    },
    {
      "metadata": {
        "trusted": true
      },
      "cell_type": "code",
      "source": "# Variable reassigment\nprint(student_name)\nstudent_name = \"Juan\"\nprint(student_name)\nstudent_name = \"Mary\"\nprint(student_name)",
      "execution_count": 6,
      "outputs": [
        {
          "output_type": "stream",
          "text": "Miguel\nJuan\nMary\n",
          "name": "stdout"
        }
      ]
    },
    {
      "metadata": {
        "trusted": true
      },
      "cell_type": "code",
      "source": "# type() displays the type of literals\ntype (9.5)",
      "execution_count": 7,
      "outputs": [
        {
          "output_type": "execute_result",
          "execution_count": 7,
          "data": {
            "text/plain": "float"
          },
          "metadata": {}
        }
      ]
    },
    {
      "metadata": {
        "trusted": true
      },
      "cell_type": "code",
      "source": "# type() displays the type of literals\ntype (9)",
      "execution_count": 9,
      "outputs": [
        {
          "output_type": "execute_result",
          "execution_count": 9,
          "data": {
            "text/plain": "int"
          },
          "metadata": {}
        }
      ]
    },
    {
      "metadata": {
        "trusted": true
      },
      "cell_type": "code",
      "source": "# type() displays the type of literals\nprint(type(2.5))\nprint(type(5))",
      "execution_count": 11,
      "outputs": [
        {
          "output_type": "stream",
          "text": "<class 'float'>\n<class 'int'>\n",
          "name": "stdout"
        }
      ]
    },
    {
      "metadata": {
        "trusted": true
      },
      "cell_type": "code",
      "source": "type(\"Arias\")",
      "execution_count": 13,
      "outputs": [
        {
          "output_type": "execute_result",
          "execution_count": 13,
          "data": {
            "text/plain": "str"
          },
          "metadata": {}
        }
      ]
    },
    {
      "metadata": {
        "trusted": true
      },
      "cell_type": "code",
      "source": "# type() displays the type of variables\nparticipant = \"Bernard\"\ntype(participant)",
      "execution_count": 16,
      "outputs": [
        {
          "output_type": "execute_result",
          "execution_count": 16,
          "data": {
            "text/plain": "str"
          },
          "metadata": {}
        }
      ]
    },
    {
      "metadata": {
        "trusted": true
      },
      "cell_type": "code",
      "source": "# type() displays the type of variables\nparticipant = 123456\ntype(participant)",
      "execution_count": 17,
      "outputs": [
        {
          "output_type": "execute_result",
          "execution_count": 17,
          "data": {
            "text/plain": "int"
          },
          "metadata": {}
        }
      ]
    },
    {
      "metadata": {
        "trusted": true
      },
      "cell_type": "code",
      "source": "# echo the result for math\n2.5 + 7.9",
      "execution_count": 21,
      "outputs": [
        {
          "output_type": "execute_result",
          "execution_count": 21,
          "data": {
            "text/plain": "10.4"
          },
          "metadata": {}
        }
      ]
    },
    {
      "metadata": {
        "trusted": true
      },
      "cell_type": "code",
      "source": "first_word = \"we\"\nprint(\"Crazy world \" + first_word + \" live\")",
      "execution_count": 27,
      "outputs": [
        {
          "output_type": "stream",
          "text": "Crazy world we live\n",
          "name": "stdout"
        }
      ]
    },
    {
      "metadata": {
        "trusted": true
      },
      "cell_type": "code",
      "source": "first_name = \"Gardelia Moreno\"\n\nprint(\"I love my mom, \" + first_name)",
      "execution_count": 26,
      "outputs": [
        {
          "output_type": "stream",
          "text": "I love my mom, Gardelia Moreno\n",
          "name": "stdout"
        }
      ]
    },
    {
      "metadata": {
        "trusted": true
      },
      "cell_type": "code",
      "source": "num_age = \"50\"\nfirst_name = \"Alba\"\n\nprint(\"Happy Birthday \" + first_name + \" you have \" + num_age)",
      "execution_count": 38,
      "outputs": [
        {
          "output_type": "stream",
          "text": "Happy Birthday Alba you have 50\n",
          "name": "stdout"
        }
      ]
    },
    {
      "metadata": {
        "trusted": true
      },
      "cell_type": "code",
      "source": "first_name = \"Neo\"\ngreeting = \"Happy birthday \" + first_name\n\nprint(greeting)",
      "execution_count": 40,
      "outputs": [
        {
          "output_type": "stream",
          "text": "Happy birthday Neo\n",
          "name": "stdout"
        }
      ]
    },
    {
      "metadata": {
        "trusted": true
      },
      "cell_type": "code",
      "source": "greeting_today = greeting + \", you are more old today!\"\n\nprint(greeting_today)",
      "execution_count": 42,
      "outputs": [
        {
          "output_type": "stream",
          "text": "Happy birthday Neo, you are more old today!\n",
          "name": "stdout"
        }
      ]
    },
    {
      "metadata": {
        "trusted": true
      },
      "cell_type": "code",
      "source": "# the same from above but with numbers\nadd_two = 125 + 264\nadd_four = add_two + add_two\n\nprint(add_four)",
      "execution_count": 44,
      "outputs": [
        {
          "output_type": "stream",
          "text": "778\n",
          "name": "stdout"
        }
      ]
    },
    {
      "metadata": {
        "trusted": true
      },
      "cell_type": "code",
      "source": "# example adding numbers, the value is the sum\ntotal_coast = 34 + 2\nprint(total_coast)",
      "execution_count": 45,
      "outputs": [
        {
          "output_type": "stream",
          "text": "36\n",
          "name": "stdout"
        }
      ]
    },
    {
      "metadata": {
        "trusted": true
      },
      "cell_type": "code",
      "source": "# example adding characters, the value is literal\ntotal_coast = \"34\" + \"2\"\nprint(total_coast)",
      "execution_count": 46,
      "outputs": [
        {
          "output_type": "stream",
          "text": "342\n",
          "name": "stdout"
        }
      ]
    },
    {
      "metadata": {
        "trusted": true
      },
      "cell_type": "code",
      "source": "# NameError\nPrint(\"error\")",
      "execution_count": 50,
      "outputs": [
        {
          "output_type": "error",
          "ename": "NameError",
          "evalue": "name 'Print' is not defined",
          "traceback": [
            "\u001b[0;31m---------------------------------------------------------------------------\u001b[0m",
            "\u001b[0;31mNameError\u001b[0m                                 Traceback (most recent call last)",
            "\u001b[0;32m<ipython-input-50-b169e7d5868e>\u001b[0m in \u001b[0;36m<module>\u001b[0;34m()\u001b[0m\n\u001b[1;32m      1\u001b[0m \u001b[0;31m# NameError\u001b[0m\u001b[0;34m\u001b[0m\u001b[0;34m\u001b[0m\u001b[0m\n\u001b[0;32m----> 2\u001b[0;31m \u001b[0mPrint\u001b[0m\u001b[0;34m(\u001b[0m\u001b[0;34m\"error\"\u001b[0m\u001b[0;34m)\u001b[0m\u001b[0;34m\u001b[0m\u001b[0m\n\u001b[0m",
            "\u001b[0;31mNameError\u001b[0m: name 'Print' is not defined"
          ]
        }
      ]
    },
    {
      "metadata": {
        "trusted": true
      },
      "cell_type": "code",
      "source": "# SyntaxError\nprint(\"i'm a error')",
      "execution_count": 51,
      "outputs": [
        {
          "output_type": "error",
          "ename": "SyntaxError",
          "evalue": "EOL while scanning string literal (<ipython-input-51-2182459c0bfe>, line 2)",
          "traceback": [
            "\u001b[0;36m  File \u001b[0;32m\"<ipython-input-51-2182459c0bfe>\"\u001b[0;36m, line \u001b[0;32m2\u001b[0m\n\u001b[0;31m    print(\"i'm a error')\u001b[0m\n\u001b[0m                        ^\u001b[0m\n\u001b[0;31mSyntaxError\u001b[0m\u001b[0;31m:\u001b[0m EOL while scanning string literal\n"
          ]
        }
      ]
    },
    {
      "metadata": {
        "trusted": true
      },
      "cell_type": "code",
      "source": "# ASCII Art\nprint(\"   _  \")\nprint(\"__(.)= \")\nprint(\"\\___) \")",
      "execution_count": 1,
      "outputs": [
        {
          "output_type": "stream",
          "text": "   _  \n__(.)= \n\\___) \n",
          "name": "stdout"
        }
      ]
    },
    {
      "metadata": {
        "trusted": true
      },
      "cell_type": "code",
      "source": "# input() is for use the integer with a string, input() create a box\nprint(\"enter a small int: \")\nsmall_int = input()",
      "execution_count": 2,
      "outputs": [
        {
          "output_type": "stream",
          "text": "enter a small int: \n12\n",
          "name": "stdout"
        }
      ]
    },
    {
      "metadata": {
        "trusted": true
      },
      "cell_type": "code",
      "source": "# you can call de input in print\nprint(\"small int: \" + small_int)",
      "execution_count": 3,
      "outputs": [
        {
          "output_type": "stream",
          "text": "small int: 12\n",
          "name": "stdout"
        }
      ]
    },
    {
      "metadata": {
        "trusted": true
      },
      "cell_type": "code",
      "source": "# put a input in a variable tu use\nstudent_name = input(\"Enter the student name: \")\nprint(\"Hi \" + student_name)",
      "execution_count": 2,
      "outputs": [
        {
          "output_type": "stream",
          "name": "stdout",
          "text": "Enter the student name: Juanchimo\nHi Juanchimo\n"
        }
      ]
    },
    {
      "metadata": {
        "trusted": true
      },
      "cell_type": "code",
      "source": "# using comma like add\nname = \"Juanchimo\"\n\nprint(\"Hello\" + name + \"!\")\n",
      "execution_count": 18,
      "outputs": [
        {
          "output_type": "error",
          "ename": "TypeError",
          "evalue": "'tuple' object is not callable",
          "traceback": [
            "\u001b[0;31m---------------------------------------------------------------------------\u001b[0m",
            "\u001b[0;31mTypeError\u001b[0m                                 Traceback (most recent call last)",
            "\u001b[0;32m<ipython-input-18-071126f01f66>\u001b[0m in \u001b[0;36m<module>\u001b[0;34m()\u001b[0m\n\u001b[1;32m      2\u001b[0m \u001b[0mname\u001b[0m \u001b[0;34m=\u001b[0m \u001b[0;34m\"Juanchimo\"\u001b[0m\u001b[0;34m\u001b[0m\u001b[0m\n\u001b[1;32m      3\u001b[0m \u001b[0;34m\u001b[0m\u001b[0m\n\u001b[0;32m----> 4\u001b[0;31m \u001b[0mprint\u001b[0m\u001b[0;34m(\u001b[0m\u001b[0;34m\"Hello\"\u001b[0m \u001b[0;34m+\u001b[0m \u001b[0mname\u001b[0m \u001b[0;34m+\u001b[0m \u001b[0;34m\"!\"\u001b[0m\u001b[0;34m)\u001b[0m\u001b[0;34m\u001b[0m\u001b[0m\n\u001b[0m",
            "\u001b[0;31mTypeError\u001b[0m: 'tuple' object is not callable"
          ]
        }
      ]
    },
    {
      "metadata": {
        "trusted": true
      },
      "cell_type": "code",
      "source": "name = \"CCS\"\n\nprint(\"I love living in\",name,\"for a long time\")",
      "execution_count": 2,
      "outputs": [
        {
          "output_type": "stream",
          "text": "I love living in CCS for a long time\n",
          "name": "stdout"
        }
      ]
    },
    {
      "metadata": {
        "trusted": true
      },
      "cell_type": "code",
      "source": "# you can use comma to put a integer in a string\nprint(\"This\",6,\"p.m. we call you\")",
      "execution_count": null,
      "outputs": []
    },
    {
      "metadata": {
        "trusted": true
      },
      "cell_type": "code",
      "source": "# you can put integer and string together and a variable\nnum_date = 19\nprint(\"My birthday is\",num_date,\"july, and I have\",33,\"years now...men\")",
      "execution_count": 22,
      "outputs": [
        {
          "output_type": "stream",
          "text": "My birthday is 19 july, and I have 33 years now...men\n",
          "name": "stdout"
        }
      ]
    },
    {
      "metadata": {
        "trusted": true
      },
      "cell_type": "code",
      "source": "# input and variable with comma\nage = input(\"put you age: \")\nprint(\"Your age is \" + age)",
      "execution_count": 7,
      "outputs": [
        {
          "output_type": "stream",
          "name": "stdout",
          "text": "put you age: 15\nYour age is 15\n"
        }
      ]
    },
    {
      "metadata": {
        "trusted": true
      },
      "cell_type": "code",
      "source": "age = input(\"Your age: \")\nprint(\"Your age is\",age,)",
      "execution_count": 8,
      "outputs": [
        {
          "output_type": "stream",
          "name": "stdout",
          "text": "Your age: 15\nYour age is 15\n"
        }
      ]
    },
    {
      "metadata": {
        "trusted": true
      },
      "cell_type": "code",
      "source": "# quotes inside the spring\nprint('When the actor said: \"Where is she\", I feel crazy!')",
      "execution_count": 9,
      "outputs": [
        {
          "output_type": "stream",
          "text": "When the actor said: \"Where is she\", I feel crazy!\n",
          "name": "stdout"
        }
      ]
    },
    {
      "metadata": {
        "trusted": true
      },
      "cell_type": "code",
      "source": "# if we wanna know it is true/false (boolean)\n\"Python\".isalpha()",
      "execution_count": 10,
      "outputs": [
        {
          "output_type": "execute_result",
          "execution_count": 10,
          "data": {
            "text/plain": "True"
          },
          "metadata": {}
        }
      ]
    },
    {
      "metadata": {
        "trusted": true
      },
      "cell_type": "code",
      "source": "\"3nd\".isalnum()",
      "execution_count": 11,
      "outputs": [
        {
          "output_type": "execute_result",
          "execution_count": 11,
          "data": {
            "text/plain": "True"
          },
          "metadata": {}
        }
      ]
    },
    {
      "metadata": {
        "trusted": true
      },
      "cell_type": "code",
      "source": "\"Hybrid Theory\".istitle()",
      "execution_count": 2,
      "outputs": [
        {
          "output_type": "execute_result",
          "execution_count": 2,
          "data": {
            "text/plain": "True"
          },
          "metadata": {}
        }
      ]
    },
    {
      "metadata": {
        "trusted": true
      },
      "cell_type": "code",
      "source": "# if you put a letter instead a digit (num)\n\"ABC\".isdigit()",
      "execution_count": 3,
      "outputs": [
        {
          "output_type": "execute_result",
          "execution_count": 3,
          "data": {
            "text/plain": "False"
          },
          "metadata": {}
        }
      ]
    },
    {
      "metadata": {
        "trusted": true
      },
      "cell_type": "code",
      "source": "# you can put a variable and verify if is true/false\n\ncm_height = \"185\"\nprint(\"the large is\",cm_height,\"cm. and it is all digits= \",cm_height.isdigit())",
      "execution_count": 5,
      "outputs": [
        {
          "output_type": "stream",
          "text": "the large is 185 cm. and it is all digits=  True\n",
          "name": "stdout"
        }
      ]
    },
    {
      "metadata": {
        "trusted": true
      },
      "cell_type": "code",
      "source": "print(\"SAVE\".islower())",
      "execution_count": 3,
      "outputs": [
        {
          "output_type": "stream",
          "text": "False\n",
          "name": "stdout"
        }
      ]
    },
    {
      "metadata": {
        "trusted": true
      },
      "cell_type": "code",
      "source": "print(\"SAVE\".isupper())",
      "execution_count": 4,
      "outputs": [
        {
          "output_type": "stream",
          "text": "True\n",
          "name": "stdout"
        }
      ]
    },
    {
      "metadata": {
        "trusted": true
      },
      "cell_type": "code",
      "source": "# if the word star with a character\n\"Boolean\".startswith(\"B\")",
      "execution_count": 2,
      "outputs": [
        {
          "output_type": "execute_result",
          "execution_count": 2,
          "data": {
            "text/plain": "True"
          },
          "metadata": {}
        }
      ]
    },
    {
      "metadata": {
        "trusted": true
      },
      "cell_type": "code",
      "source": "# we used commands for the letters\ncolor_name = \"purple\"\n\nprint(color_name.capitalize(),color_name,color_name.upper(),\"and\",color_name.title()+\"!\")",
      "execution_count": 10,
      "outputs": [
        {
          "output_type": "stream",
          "text": "Purple purple PURPLE and Purple!\n",
          "name": "stdout"
        }
      ]
    },
    {
      "metadata": {
        "trusted": true
      },
      "cell_type": "code",
      "source": "student_name = \"Jose Pasillas\"\n\nprint(student_name.lower(),\"but I said\",student_name.upper())",
      "execution_count": 12,
      "outputs": [
        {
          "output_type": "stream",
          "text": "jose pasillas but I said JOSE PASILLAS\n",
          "name": "stdout"
        }
      ]
    },
    {
      "metadata": {
        "trusted": true
      },
      "cell_type": "code",
      "source": "# you can use the commands in a input an the answers will be apply\nfav_color = input('Where is your favorite color: ').upper()\n\nprint(fav_color)",
      "execution_count": 13,
      "outputs": [
        {
          "output_type": "stream",
          "name": "stdout",
          "text": "Where is your favorite color: Purple\nPURPLE\n"
        }
      ]
    },
    {
      "metadata": {
        "trusted": true
      },
      "cell_type": "code",
      "source": "# for search a word in a string\nmenu = \"pasta pizza pasticho\"\nprint('pizza' in menu)",
      "execution_count": 14,
      "outputs": [
        {
          "output_type": "stream",
          "text": "True\n",
          "name": "stdout"
        }
      ]
    },
    {
      "metadata": {
        "trusted": true
      },
      "cell_type": "code",
      "source": "menu = \"pasta pizza pasticho\"\nprint('ravioli' in menu)",
      "execution_count": 15,
      "outputs": [
        {
          "output_type": "stream",
          "text": "False\n",
          "name": "stdout"
        }
      ]
    },
    {
      "metadata": {
        "trusted": true
      },
      "cell_type": "code",
      "source": "# if we wanna effective searching we use .lower()\ngreeting = \"Hello world!\"\nprint(\"'hello' in greeting = \",'hello' in greeting)\nprint(\"'Hello' in greeting = \",'Hello' in greeting)\nprint(\"'hello' in greeting if lower used = \",'hello'.lower() in greeting.lower())",
      "execution_count": 19,
      "outputs": [
        {
          "output_type": "stream",
          "text": "'hello' in greeting =  False\n'Hello' in greeting =  True\n'hello' in greeting if lower used =  True\n",
          "name": "stdout"
        }
      ]
    },
    {
      "metadata": {
        "trusted": true
      },
      "cell_type": "code",
      "source": "# Create a program where the user supplies input to search the menu\nmenu = \"salad, pasta, sandwich, pizza, drinks, dessert, arepas, soda\"\nmenu_ask = input(\"In the menu are?: \")\n\nprint(\"In the menu are\",menu_ask.capitalize(),\"=\",menu_ask.lower() in menu.lower())\n",
      "execution_count": 20,
      "outputs": [
        {
          "output_type": "stream",
          "name": "stdout",
          "text": "In the menu are?: arepas\nIn the menu are Arepas = True\n"
        }
      ]
    },
    {
      "metadata": {
        "trusted": true
      },
      "cell_type": "code",
      "source": "# create a simple function\ndef say_hi():\n    print(\"Hello people in the club!\")",
      "execution_count": 2,
      "outputs": []
    },
    {
      "metadata": {
        "trusted": true
      },
      "cell_type": "code",
      "source": "say_hi()",
      "execution_count": 4,
      "outputs": [
        {
          "output_type": "stream",
          "text": "Hello people in the club!\n",
          "name": "stdout"
        }
      ]
    },
    {
      "metadata": {
        "trusted": true
      },
      "cell_type": "code",
      "source": "# If you want space between a print\nprint(\"Hi\")\nprint()\nprint(\"How are you?\")",
      "execution_count": 7,
      "outputs": [
        {
          "output_type": "stream",
          "text": "Hi\n\nHow are you?\n",
          "name": "stdout"
        }
      ]
    },
    {
      "metadata": {
        "trusted": true
      },
      "cell_type": "code",
      "source": "# parameters \nphrase = \"today is the day\"\n\ndef say_this():\n    print(phrase.upper() + \"!\")\n    \nsay_this()\n",
      "execution_count": 18,
      "outputs": [
        {
          "output_type": "stream",
          "text": "TODAY IS THE DAY!\n",
          "name": "stdout"
        }
      ]
    },
    {
      "metadata": {
        "trusted": true
      },
      "cell_type": "code",
      "source": "# parameters with default arguments and you can define in the spring\ndef say_this(phrase = \"Hi\"):\n    print(phrase)\n    \nsay_this()\nsay_this(\"Bye\")",
      "execution_count": 22,
      "outputs": [
        {
          "output_type": "stream",
          "text": "Hi\nBye\n",
          "name": "stdout"
        }
      ]
    },
    {
      "metadata": {
        "trusted": true
      },
      "cell_type": "code",
      "source": "# You can define the variable in the string\ndef yell_this(phrase):\n    print(phrase.upper() + \"!\")\n    \nyell_this(\"hello people in the beach\")    ",
      "execution_count": 23,
      "outputs": [
        {
          "output_type": "stream",
          "text": "HELLO PEOPLE IN THE BEACH!\n",
          "name": "stdout"
        }
      ]
    },
    {
      "metadata": {
        "trusted": true
      },
      "cell_type": "code",
      "source": "# task for practice and call a function with a parameter\nwords_to_use = input(\"Put here a words: \")\n\ndef yell_this():\n    print(words_to_use.upper() + \"!\")\n    \nyell_this()",
      "execution_count": 27,
      "outputs": [
        {
          "output_type": "stream",
          "name": "stdout",
          "text": "Put here a words: hello\nHELLO!\n"
        }
      ]
    },
    {
      "metadata": {
        "trusted": true
      },
      "cell_type": "code",
      "source": "print(33)",
      "execution_count": 2,
      "outputs": [
        {
          "output_type": "stream",
          "text": "33\n",
          "name": "stdout"
        }
      ]
    },
    {
      "metadata": {
        "trusted": true
      },
      "cell_type": "code",
      "source": "# return value in a function\ndef msg_double(phrase):\n    double = phrase + \" \" + phrase\n    return double\n\nmsg_2x = msg_double(\"Ey!\")\nprint(msg_2x)",
      "execution_count": 6,
      "outputs": [
        {
          "output_type": "stream",
          "text": "Ey! Ey!\n",
          "name": "stdout"
        }
      ]
    },
    {
      "metadata": {
        "trusted": true
      },
      "cell_type": "code",
      "source": "# inventing\ndef msg_upper(phrase):\n    upper = phrase.upper()\n    return upper\n    \nMSG = msg_upper(\"zup\")\nprint(MSG)",
      "execution_count": 10,
      "outputs": [
        {
          "output_type": "stream",
          "text": "ZUP\n",
          "name": "stdout"
        }
      ]
    },
    {
      "metadata": {
        "trusted": true
      },
      "cell_type": "code",
      "source": "# function with multiple parameters and multiple arguments\ndef make_training(exercise1, exercise2, exercise3):\n    schudele = (\"1ero \" + exercise1 + \", 2do \" + exercise2.upper() + \", 3ro \" + exercise3)\n    return schudele\n\nworking_out = make_training(\"yoga\", \"abdominals\", \"cycling\")\nprint(working_out)",
      "execution_count": 13,
      "outputs": [
        {
          "output_type": "stream",
          "text": "1ero yoga, 2do ABDOMINALS, 3ro cycling\n",
          "name": "stdout"
        }
      ]
    },
    {
      "metadata": {
        "trusted": true
      },
      "cell_type": "code",
      "source": "# bird programm\n\n# [ ] create function bird_available\ndef bird_available(ask_bird):\n    bird_types = \"crow, robin, parrot, eagle, sandpiper, hawk, piegon\"\n    return(ask_bird in bird_types)\n\n# [ ] user input\nask_bird = input(\"Enter a type bird to search: \").lower()\n\n# [ ] call bird_available\nhave_bird = bird_available(ask_bird)\n\n# [ ] print availbility status\nprint(ask_bird + \" available is\", have_bird)\n",
      "execution_count": 4,
      "outputs": [
        {
          "output_type": "stream",
          "name": "stdout",
          "text": "Enter a type bird to search: chicken\nchicken available is False\n"
        }
      ]
    },
    {
      "metadata": {
        "trusted": true
      },
      "cell_type": "code",
      "source": "# conditionals use true or false\n#if the sentence is true il will be print \"if\" otherwise will be print \"else\"\n\nif False:\n    print(\"This is for true\")\nelse:\n    print(\"This is for false\")",
      "execution_count": 7,
      "outputs": [
        {
          "output_type": "stream",
          "text": "This is for false\n",
          "name": "stdout"
        }
      ]
    },
    {
      "metadata": {
        "trusted": true
      },
      "cell_type": "code",
      "source": "hot_tea = False\n\nif hot_tea:\n    print(\"enjoy hot tea!\")\nelse:\n    print(\"enjoy same tea, and try hot tea next time\")",
      "execution_count": 11,
      "outputs": [
        {
          "output_type": "stream",
          "text": "enjoy same tea, and try hot tea next time\n",
          "name": "stdout"
        }
      ]
    },
    {
      "metadata": {
        "trusted": true
      },
      "cell_type": "code",
      "source": "# if we dont want to see anything if it not true \nsomeone_i_know = False\nif someone_i_know:\n    print(\"how have you been?\")\nelse:\n    pass",
      "execution_count": 16,
      "outputs": []
    },
    {
      "metadata": {
        "trusted": true
      },
      "cell_type": "code",
      "source": "# if we change for True\nsomeone_i_know = True\nif someone_i_know:\n    print(\"how have you been?\")\nelse:\n    pass",
      "execution_count": 18,
      "outputs": [
        {
          "output_type": "stream",
          "text": "how have you been?\n",
          "name": "stdout"
        }
      ]
    },
    {
      "metadata": {
        "trusted": true
      },
      "cell_type": "code",
      "source": "# use boolean string test methods with if\nfavorite_book = input(\"Enter the title of your favorite book: \")\n\nif favorite_book.istitle():\n    print(favorite_book, \"- nice capitalization in that title!\")\nelse:\n    print(favorite_book, \"- tip: try capitalize for book title.\")",
      "execution_count": 20,
      "outputs": [
        {
          "output_type": "stream",
          "name": "stdout",
          "text": "Enter the title of your favorite book: harry potter\nharry potter - tip: try capitalize for book title.\n"
        }
      ]
    },
    {
      "metadata": {
        "trusted": true
      },
      "cell_type": "code",
      "source": "# we can put more than one \"if\"\na_number = input(\"enter a positive integer number: \")\n\nif a_number.isdigit():\n    print(a_number, \"is a positive integer\")\nelse:\n    print(a_number, \"is not a positive integer\")\n    \n#  another if\nif a_number.isalpha():\n    print(a_number, \"is like a word\")\nelse:\n    pass",
      "execution_count": 7,
      "outputs": [
        {
          "output_type": "stream",
          "name": "stdout",
          "text": "enter a positive integer number: 103\n103 is a positive integer\n"
        }
      ]
    },
    {
      "metadata": {
        "trusted": true
      },
      "cell_type": "code",
      "source": "# practice\nvehicle_type = input('enter a type of vehicle that stars with \"P\": ')\n\nif vehicle_type.upper().startswith(\"P\"):\n    print(vehicle_type, 'starts with \"P\"')\nelse:\n    print(vehicle_type, 'does not starts with \"P\"')",
      "execution_count": 12,
      "outputs": [
        {
          "output_type": "stream",
          "name": "stdout",
          "text": "enter a type of vehicle that stars with \"P\": corsa\ncorsa does not starts with \"P\"\n"
        }
      ]
    },
    {
      "metadata": {
        "trusted": true
      },
      "cell_type": "code",
      "source": "    if test_string_1.startswith('w'):\n        print(test_string_1, \"starts with 'w'\")\n    else:\n         print(test_string_2, \"does not starts with'w'\")\n            \n    if test_string_2.startswith('w'):\n        print(test_string_2, \"starts with 'w'\")\n    else:\n         print(test_string_2, \"does not starts with'w'\")\n                    \n    if test_string_1.startswith('w'):\n         print(test_string_3, \"starts with 'w'\")\n    else:\n         print(test_string_3, \"does not starts with'w'\")     ",
      "execution_count": null,
      "outputs": []
    }
  ],
  "metadata": {
    "kernelspec": {
      "name": "python3",
      "display_name": "Python 3",
      "language": "python"
    },
    "language_info": {
      "mimetype": "text/x-python",
      "nbconvert_exporter": "python",
      "name": "python",
      "pygments_lexer": "ipython3",
      "version": "3.5.4",
      "file_extension": ".py",
      "codemirror_mode": {
        "version": 3,
        "name": "ipython"
      }
    }
  },
  "nbformat": 4,
  "nbformat_minor": 1
}