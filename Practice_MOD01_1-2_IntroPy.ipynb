{
  "cells": [
    {
      "metadata": {},
      "cell_type": "markdown",
      "source": "# 1-2 Intro Python Practice\n## Strings: input, testing, formatting\n<font size=\"5\" color=\"#00A0B2\"  face=\"verdana\"> <B>Student will be able to</B></font>\n- gather, store and use string `input()`  \n- format `print()` output  \n- test string characteristics  \n- format string output  \n- search for a string in a string  "
    },
    {
      "metadata": {},
      "cell_type": "markdown",
      "source": "## input()\ngetting input from users"
    },
    {
      "metadata": {
        "scrolled": true,
        "trusted": true
      },
      "cell_type": "code",
      "source": "# [ ] get user input for a variable named remind_me\nremind_me = input()\n\n# [ ] print the value of the variable remind_me\nprint(remind_me)\n",
      "execution_count": 3,
      "outputs": [
        {
          "output_type": "stream",
          "name": "stdout",
          "text": "Juan Arias\nJuan Arias\n"
        }
      ]
    },
    {
      "metadata": {
        "trusted": true
      },
      "cell_type": "code",
      "source": "# use string addition to print \"remember: \" before the remind_me input string\nprint(\"remember: \"+remind_me)\n",
      "execution_count": 4,
      "outputs": [
        {
          "output_type": "stream",
          "text": "remember: Juan Arias\n",
          "name": "stdout"
        }
      ]
    },
    {
      "metadata": {},
      "cell_type": "markdown",
      "source": "### Program: Meeting Details\n#### [ ] get user **input** for meeting subject and time\n`what is the meeting subject?: plan for graduation`  \n`what is the meeting time?: 3:00 PM on Monday`  \n\n#### [ ] print **output** with descriptive labels  \n`Meeting Subject: plan for graduation`  \n`Meeting Time:    3:00 PM on Monday`"
    },
    {
      "metadata": {
        "trusted": true
      },
      "cell_type": "code",
      "source": "# [ ] get user input for 2 variables: meeting_subject and meeting_time\nmeeting_subject = input()\nmeeting_time = input()\n\n# [ ] use string addition to print meeting subject and time with labels\nprint(\"You have a \"+meeting_subject+\" at \"+meeting_time)\n\n\n",
      "execution_count": 6,
      "outputs": [
        {
          "output_type": "stream",
          "name": "stdout",
          "text": "reunión\n11:25\nYou have a reunión at 11:25\n"
        }
      ]
    },
    {
      "metadata": {
        "collapsed": true
      },
      "cell_type": "markdown",
      "source": "## print() formatting \n### combining multiple strings separated by commas in the print() function"
    },
    {
      "metadata": {
        "trusted": true
      },
      "cell_type": "code",
      "source": "# [ ] print the combined strings \"Wednesday is\" and \"in the middle of the week\" \nprint(\"Wednesday is\"+\" in the middle of the week\")\n",
      "execution_count": 10,
      "outputs": [
        {
          "output_type": "stream",
          "text": "Wednesday is in the middle of the week\n",
          "name": "stdout"
        }
      ]
    },
    {
      "metadata": {
        "trusted": true
      },
      "cell_type": "code",
      "source": "# [ ] print combined string \"Remember to\" and the string variable remind_me from input above\nprint(\"Remember to \"+remind_me)\n",
      "execution_count": 13,
      "outputs": [
        {
          "output_type": "stream",
          "text": "Remember to Juan Arias\n",
          "name": "stdout"
        }
      ]
    },
    {
      "metadata": {
        "trusted": true
      },
      "cell_type": "code",
      "source": "# [ ] Combine 3 variables from above with multiple strings\nprint(\"Remember to \"+remind_me+\" to go to the \"+meeting_subject+\" at \"+meeting_time)\n",
      "execution_count": 15,
      "outputs": [
        {
          "output_type": "stream",
          "text": "Remember to Juan Arias to go to the reunión at 11:25\n",
          "name": "stdout"
        }
      ]
    },
    {
      "metadata": {
        "collapsed": true
      },
      "cell_type": "markdown",
      "source": "### print() quotation marks"
    },
    {
      "metadata": {
        "trusted": true
      },
      "cell_type": "code",
      "source": "# [ ] print a string sentence that will display an Apostrophe (')\nprint(\"I'm Mar Pastor\")\n\n",
      "execution_count": 16,
      "outputs": [
        {
          "output_type": "stream",
          "text": "I'm Mar Pastor\n",
          "name": "stdout"
        }
      ]
    },
    {
      "metadata": {
        "trusted": true
      },
      "cell_type": "code",
      "source": "# [ ] print a string sentence that will display a quote(\") or quotes\nprint('My husband say: \"I hacve to go\"')\n\n",
      "execution_count": 17,
      "outputs": [
        {
          "output_type": "stream",
          "text": "My husband say: \"I hacve to go\"\n",
          "name": "stdout"
        }
      ]
    },
    {
      "metadata": {
        "collapsed": true
      },
      "cell_type": "markdown",
      "source": "## Boolean string tests"
    },
    {
      "metadata": {},
      "cell_type": "markdown",
      "source": "### Vehicle tests  \n#### get user input for a variable named vehicle  \nprint the following tests results  \n- check True or False if vehicle is All alphabetical characters using .isalpha()  \n- check True or False if vehicle is only All alphabetical & numeric characters  \n- check True or False if vehicle is Capitalized (first letter only)  \n- check True or False if vehicle is All lowercase  \n- **bonus** print description for each test (e.g.- `\"All Alpha: True\"`)"
    },
    {
      "metadata": {
        "trusted": true
      },
      "cell_type": "code",
      "source": "# [ ] complete vehicle tests \nletter= \"VehiclE\"\nprint(\"The letter\",letter,\"is alphabetic: \",letter.isalpha())\nprint(\"The letter\",letter,\"is alphabetic & numeric: \",letter.isalnum())\nprint(\"The letter\",letter,\"is alphabetic & numeric: \",letter.istitle())\nprint(\"The letter\",letter,\"is alphabetic & numeric: \",letter.islower())",
      "execution_count": 41,
      "outputs": [
        {
          "output_type": "stream",
          "text": "The letter VehiclE is alphabetic:  True\nThe letter VehiclE is alphabetic & numeric:  True\nThe letter VehiclE is alphabetic & numeric:  False\nThe letter VehiclE is alphabetic & numeric:  False\n",
          "name": "stdout"
        }
      ]
    },
    {
      "metadata": {
        "trusted": true
      },
      "cell_type": "code",
      "source": "# [ ] print True or False if color starts with \"b\" \n\"color\".startswith(\"b\")\n",
      "execution_count": 42,
      "outputs": [
        {
          "output_type": "execute_result",
          "execution_count": 42,
          "data": {
            "text/plain": "False"
          },
          "metadata": {}
        }
      ]
    },
    {
      "metadata": {
        "collapsed": true,
        "trusted": false
      },
      "cell_type": "code",
      "source": "",
      "execution_count": null,
      "outputs": []
    },
    {
      "metadata": {},
      "cell_type": "markdown",
      "source": "## Sting formatting"
    },
    {
      "metadata": {
        "trusted": true
      },
      "cell_type": "code",
      "source": "# [ ] print the string variable capital_this Capitalizing only the first letter\ncapitalize_this = \"the TIME is Noon.\"\n\nprint(capitalize_this.capitalize())",
      "execution_count": 2,
      "outputs": [
        {
          "output_type": "stream",
          "text": "The time is noon.\n",
          "name": "stdout"
        }
      ]
    },
    {
      "metadata": {
        "trusted": true
      },
      "cell_type": "code",
      "source": "# print the string variable swap_this in swapped case\nswap_this = \"wHO writes LIKE tHIS?\"\n\nprint(swap_this.swapcase())",
      "execution_count": 3,
      "outputs": [
        {
          "output_type": "stream",
          "text": "Who WRITES like This?\n",
          "name": "stdout"
        }
      ]
    },
    {
      "metadata": {
        "trusted": true
      },
      "cell_type": "code",
      "source": "# print the string variable whisper_this in all lowercase\nwhisper_this = \"Can you hear me?\"\n\nprint(whisper_this.lower())",
      "execution_count": 4,
      "outputs": [
        {
          "output_type": "stream",
          "text": "can you hear me?\n",
          "name": "stdout"
        }
      ]
    },
    {
      "metadata": {
        "trusted": true
      },
      "cell_type": "code",
      "source": "# print the string variable yell_this in all UPPERCASE\nyell_this = \"Can you hear me Now!?\"\n\nprint(yell_this.upper())",
      "execution_count": 5,
      "outputs": [
        {
          "output_type": "stream",
          "text": "CAN YOU HEAR ME NOW!?\n",
          "name": "stdout"
        }
      ]
    },
    {
      "metadata": {
        "trusted": true
      },
      "cell_type": "code",
      "source": "#format input using .upper(), .lower(), .swapcase, .capitalize()\nformat_input = input('enter a string to reformat: ')\n\nprint(format_input.upper())\nprint(format_input.lower())\nprint(format_input.swapcase())\nprint(format_input.capitalize())",
      "execution_count": 10,
      "outputs": [
        {
          "output_type": "stream",
          "name": "stdout",
          "text": "enter a string to reformat: juan chimo\nJUAN CHIMO\njuan chimo\nJUAN CHIMO\nJuan chimo\n"
        }
      ]
    },
    {
      "metadata": {},
      "cell_type": "markdown",
      "source": "### input() formatting"
    },
    {
      "metadata": {
        "trusted": true
      },
      "cell_type": "code",
      "source": "# [ ] get user input for a variable named color\n# [ ] modify color to be all lowercase and print\ncolor_name = input(\"Put here the color: \")\n\nprint(color_name.lower())\n",
      "execution_count": 11,
      "outputs": [
        {
          "output_type": "stream",
          "name": "stdout",
          "text": "Put here the color: BLUE\nblue\n"
        }
      ]
    },
    {
      "metadata": {
        "trusted": true
      },
      "cell_type": "code",
      "source": "# [ ] get user input using variable remind_me and format to all **lowercase** and print\n# [ ] test using input with mixed upper and lower cases\nremind_me = input('This is for remind you:').lower()\n\nprint(remind_me)\n",
      "execution_count": 14,
      "outputs": [
        {
          "output_type": "stream",
          "name": "stdout",
          "text": "This is for remind you:HellOOOooo\nhelloooooo\n"
        }
      ]
    },
    {
      "metadata": {
        "trusted": true
      },
      "cell_type": "code",
      "source": "# [] get user input for the variable yell_this and format as a \"YELL\" to ALL CAPS\nyell_this = input(\"YELL\").upper()\nprint(yell_this)\n",
      "execution_count": 15,
      "outputs": [
        {
          "output_type": "stream",
          "name": "stdout",
          "text": "YELLqueloque cuchuro\nQUELOQUE CUCHURO\n"
        }
      ]
    },
    {
      "metadata": {
        "collapsed": true,
        "trusted": false
      },
      "cell_type": "code",
      "source": "",
      "execution_count": null,
      "outputs": []
    },
    {
      "metadata": {},
      "cell_type": "markdown",
      "source": "## \"in\" keyword\n### boolean: short_str in long_str"
    },
    {
      "metadata": {
        "trusted": true
      },
      "cell_type": "code",
      "source": "# [ ] get user input for the name of some animals in the variable animals_input\nanimals = \"cat, bird, dog, frog\"\nanimals_input = input(\"Put your animal here: \")\n# [ ] print true or false if 'cat' is in the string variable animals_input\nprint(\"There is\",animals_input,\"in the list?=\",animals_input.lower() in animals.lower())\n",
      "execution_count": 4,
      "outputs": [
        {
          "output_type": "stream",
          "name": "stdout",
          "text": "Put your animal here: cat\nThere is cat in the list?= True\n"
        }
      ]
    },
    {
      "metadata": {
        "trusted": true
      },
      "cell_type": "code",
      "source": "# [ ] get user input for color\ncolor = input()\n\n# [ ] print True or False for starts with \"b\"\nprint(color.startswith(\"b\"))\n\n# [ ] print color variable value exactly as input \n#     test with input: \"Blue\", \"BLUE\", \"bLUE\"\n\n\n\n",
      "execution_count": 8,
      "outputs": [
        {
          "output_type": "stream",
          "name": "stdout",
          "text": "bLUE\nTrue\n"
        }
      ]
    },
    {
      "metadata": {},
      "cell_type": "markdown",
      "source": "## Program: guess what I'm reading\n### short_str in long_str\n\n1. **[ ]** get user **`input`** for a single word describing something that can be read \n save in a variable called **can_read**  \n e.g. - \"website\", \"newspaper\", \"blog\", \"textbook\"  \n &nbsp;  \n2. **[ ]** get user **`input`** for 3 things can be read  \n save in a variable called **can_read_things**  \n&nbsp;  \n\n3. **[ ]** print **`true`** if the **can_read** string is found  \n **in** the **can_read_things** string variable\n  \n*example of program input and output*  \n[![01 02 practice Allergy-input](https://iajupyterprodblobs.blob.core.windows.net/imagecontainer/guess_reading.gif) ](https://1drv.ms/i/s!Am_KPRosgtaij7A_G6RtDlWZeYA3ZA)\n"
    },
    {
      "metadata": {
        "trusted": true
      },
      "cell_type": "code",
      "source": "# project: \"guess what I'm reading\"\n\n# 1[ ] get 1 word input for can_read variable\ncan_read = input()\nprint(\"1 word item that can be read: \"+can_read)\n# 2[ ] get 3 things input for can_read_things variable\ncan_read_things = input()\nprint(\"3 items that can be read: \"+can_read_things)\n# 3[ ] print True if can_read is in can_read_things\nprint(\"item found\",can_read_things,\":\",can_read in can_read_things.lower())\n\n# [] challenge: format the output to read \"item found = True\" (or false)\n# hint: look print formatting exercises\n\n",
      "execution_count": 23,
      "outputs": [
        {
          "output_type": "stream",
          "name": "stdout",
          "text": "book \n1 word item that can be read: book \ninternet\n3 items that can be read: internet\nitem found internet : False\n"
        }
      ]
    },
    {
      "metadata": {},
      "cell_type": "markdown",
      "source": "## Program: Allergy Check\n\n1. **[ ]** get user **`input`** for categories of food eaten in the last 24 hours  \n save in a variable called **input_test**  \n *example input*\n [![01 02 practice Allergy-input](https://iajupyterprodblobs.blob.core.windows.net/imagecontainer/eaten_input.gif) ](https://1drv.ms/i/s!Am_KPRosgtaij65qzFD5CGvv95-ijg)\n&nbsp;  \n2. **[ ]** print **`True`** if \"dairy\" is in the **input_test** string  \n**[ ]** Test the code so far  \n&nbsp;\n3. **[ ]** modify the print statement to output similar to below  \n*example output*\n[![01 02 Allergy output](https://iajupyterprodblobs.blob.core.windows.net/imagecontainer/eaten_output.gif) ](https://1drv.ms/i/s!Am_KPRosgtaij65rET-wmlpCdMX7CQ)  \nTest the code so far trying input including the string \"dairy\" and without  \n&nbsp;  \n\n4. **[ ]** repeat the process checking the input for \"nuts\", **challenge** add \"Seafood\" and \"chocolate\"  \n**[ ]** Test your code  \n&nbsp;  \n  \n5. **[ ] challenge:** make your code work for input regardless of case, e.g. - print **`True`** for \"Nuts\", \"NuTs\", \"NUTS\" or \"nuts\"  \n"
    },
    {
      "metadata": {
        "trusted": true
      },
      "cell_type": "code",
      "source": "# Allergy check \n\n# 1[ ] get input for test\ninput_test = input(\"enter somethings eaten in last 24 hrs: \")\n\n# 2/3[ ] print True if \"dairy\" is in the input or False if not\nprint(\"dairy\" in input_test)\n\n# 4[ ] Check if \"nuts\" are in the input\nprint(\"It is\",\"dairy\" in input_test,\"that\",input_test,\"contains 'dairy'\")\n# 4+[ ] Challenge: Check if \"seafood\" is in the input\n\n# 4+[ ] Challenge: Check if \"chocolate\" is in the input\n\n",
      "execution_count": 5,
      "outputs": [
        {
          "output_type": "stream",
          "name": "stdout",
          "text": "enter somethings eaten in last 24 hrs: seafood, nuts, chocolate cake\nFalse\nIt is False that seafood, nuts, chocolate cake contains 'dairy'\n"
        }
      ]
    },
    {
      "metadata": {},
      "cell_type": "markdown",
      "source": "[Terms of use](http://go.microsoft.com/fwlink/?LinkID=206977) &nbsp; [Privacy & cookies](https://go.microsoft.com/fwlink/?LinkId=521839) &nbsp; © 2017 Microsoft"
    }
  ],
  "metadata": {
    "anaconda-cloud": {},
    "kernelspec": {
      "name": "python3",
      "display_name": "Python 3",
      "language": "python"
    },
    "language_info": {
      "mimetype": "text/x-python",
      "nbconvert_exporter": "python",
      "name": "python",
      "pygments_lexer": "ipython3",
      "version": "3.5.4",
      "file_extension": ".py",
      "codemirror_mode": {
        "version": 3,
        "name": "ipython"
      }
    }
  },
  "nbformat": 4,
  "nbformat_minor": 1
}